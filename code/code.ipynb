{
 "cells": [
  {
   "cell_type": "code",
   "execution_count": 7,
   "metadata": {
    "collapsed": true
   },
   "outputs": [],
   "source": [
    "import os\n",
    "os.environ[\"CUDA_DEVICE_ORDER\"] = \"PCI_BUS_ID\" \n",
    "os.environ[\"CUDA_VISIBLE_DEVICES\"] = \"1\"\n",
    "import glob\n",
    "import numpy as np\n",
    "import scipy.misc\n",
    "\n",
    "import keras\n",
    "import keras.callbacks\n",
    "import keras.backend as K\n",
    "from keras import optimizers\n",
    "from keras.engine.topology import Layer\n",
    "from keras.applications.vgg16 import VGG16\n",
    "from keras.preprocessing import image\n",
    "from keras.applications.vgg16 import preprocess_input\n",
    "from keras.layers import Input, Dense, Concatenate,Lambda, Conv2D, MaxPooling2D, Flatten, Multiply\n",
    "\n",
    "from keras.models import Model\n",
    "from collections import OrderedDict\n",
    "from tqdm import trange, tqdm\n",
    "\n",
    "import tensorflow as tf\n",
    "from tensorflow import image as tfi\n",
    "\n",
    "import pandas as pd\n",
    "\n",
    "import matplotlib.pyplot as plt\n",
    "%matplotlib inline"
   ]
  },
  {
   "cell_type": "markdown",
   "metadata": {},
   "source": [
    "# - Utils"
   ]
  },
  {
   "cell_type": "code",
   "execution_count": 8,
   "metadata": {},
   "outputs": [],
   "source": [
    "def get_image_data(img_path, image_size, space='rgb'):\n",
    "    if space=='rgb':\n",
    "        img = image.load_img(img_path, target_size=image_size)\n",
    "        x = image.img_to_array(img)\n",
    "        x = np.expand_dims(x, axis=0)\n",
    "        x = preprocess_input(x)\n",
    "        return x[0]\n",
    "    elif space=='gray':\n",
    "        img = image.load_img(img_path, target_size=image_size, grayscale=True)\n",
    "        x = image.img_to_array(img)\n",
    "        x /= 255.\n",
    "        return x\n",
    "\n",
    "class MySigmoidLayer(Layer):\n",
    "    def __init__(self, **kwargs):\n",
    "        super(MySigmoidLayer, self).__init__(**kwargs)\n",
    "\n",
    "    def build(self, input_shape):\n",
    "        # Create a trainable weight variable for this layer.\n",
    "        self.kernel = self.add_weight(name='kernel', \n",
    "                                      shape=(1, 1),\n",
    "                                      initializer='uniform',\n",
    "                                      trainable=True)\n",
    "        super(MySigmoidLayer, self).build(input_shape)  # Be sure to call this somewhere!\n",
    "\n",
    "    def call(self, x):\n",
    "        return 1./(1.+K.exp(-(x-0.5)*self.kernel))\n",
    "\n",
    "    def compute_output_shape(self, input_shape):\n",
    "        return input_shape\n",
    "    \n",
    "def create_weighted_model():\n",
    "    vgg16_1 = VGG16(include_top=False, weights='imagenet', input_shape=(600, 800, 3))\n",
    "    vgg16_2 = VGG16(include_top=False, weights='imagenet', input_shape=(300, 400, 3))\n",
    "    for layer in vgg16_2.layers:\n",
    "        layer.name = layer.name + \"_sec\"\n",
    "    vgg16_2_output = Lambda(lambda x_: tf.image.resize_images(x_, (18, 25)),name=\"lambda_c1\")(vgg16_2.get_layer(\"block5_pool_sec\").output)\n",
    "    x = Concatenate(name=\"my_concat\")([vgg16_1.get_layer(\"block5_pool\").output, vgg16_2_output])\n",
    "    x = Lambda(lambda x_: tf.divide(x_, 255.), name=\"lambda_concate\")(x)\n",
    "    \n",
    "    pooled_output = MaxPooling2D(pool_size=(2, 2))(x)\n",
    "    flatted_output = Flatten()(pooled_output)\n",
    "    weight_layer = Dense(1024)(flatted_output)\n",
    "\n",
    "    weighted_neuron = Multiply()([x, weight_layer])\n",
    "    \n",
    "    sal_output = Conv2D(1, (1, 1), strides=(1, 1), padding='valid', use_bias=True)(weighted_neuron)\n",
    "    sal_output = MySigmoidLayer()(sal_output)\n",
    "    \n",
    "    new_model = Model(inputs=[vgg16_1.input, vgg16_2.input], outputs=sal_output)\n",
    "    \n",
    "    return new_model"
   ]
  },
  {
   "cell_type": "markdown",
   "metadata": {},
   "source": [
    "# - Testing"
   ]
  },
  {
   "cell_type": "code",
   "execution_count": 10,
   "metadata": {},
   "outputs": [
    {
     "name": "stdout",
     "output_type": "stream",
     "text": [
      "__________________________________________________________________________________________________\n",
      "Layer (type)                    Output Shape         Param #     Connected to                     \n",
      "==================================================================================================\n",
      "input_6_sec (InputLayer)        (None, 300, 400, 3)  0                                            \n",
      "__________________________________________________________________________________________________\n",
      "input_5 (InputLayer)            (None, 600, 800, 3)  0                                            \n",
      "__________________________________________________________________________________________________\n",
      "block1_conv1_sec (Conv2D)       (None, 300, 400, 64) 1792        input_6_sec[0][0]                \n",
      "__________________________________________________________________________________________________\n",
      "block1_conv1 (Conv2D)           (None, 600, 800, 64) 1792        input_5[0][0]                    \n",
      "__________________________________________________________________________________________________\n",
      "block1_conv2_sec (Conv2D)       (None, 300, 400, 64) 36928       block1_conv1_sec[0][0]           \n",
      "__________________________________________________________________________________________________\n",
      "block1_conv2 (Conv2D)           (None, 600, 800, 64) 36928       block1_conv1[0][0]               \n",
      "__________________________________________________________________________________________________\n",
      "block1_pool_sec (MaxPooling2D)  (None, 150, 200, 64) 0           block1_conv2_sec[0][0]           \n",
      "__________________________________________________________________________________________________\n",
      "block1_pool (MaxPooling2D)      (None, 300, 400, 64) 0           block1_conv2[0][0]               \n",
      "__________________________________________________________________________________________________\n",
      "block2_conv1_sec (Conv2D)       (None, 150, 200, 128 73856       block1_pool_sec[0][0]            \n",
      "__________________________________________________________________________________________________\n",
      "block2_conv1 (Conv2D)           (None, 300, 400, 128 73856       block1_pool[0][0]                \n",
      "__________________________________________________________________________________________________\n",
      "block2_conv2_sec (Conv2D)       (None, 150, 200, 128 147584      block2_conv1_sec[0][0]           \n",
      "__________________________________________________________________________________________________\n",
      "block2_conv2 (Conv2D)           (None, 300, 400, 128 147584      block2_conv1[0][0]               \n",
      "__________________________________________________________________________________________________\n",
      "block2_pool_sec (MaxPooling2D)  (None, 75, 100, 128) 0           block2_conv2_sec[0][0]           \n",
      "__________________________________________________________________________________________________\n",
      "block2_pool (MaxPooling2D)      (None, 150, 200, 128 0           block2_conv2[0][0]               \n",
      "__________________________________________________________________________________________________\n",
      "block3_conv1_sec (Conv2D)       (None, 75, 100, 256) 295168      block2_pool_sec[0][0]            \n",
      "__________________________________________________________________________________________________\n",
      "block3_conv1 (Conv2D)           (None, 150, 200, 256 295168      block2_pool[0][0]                \n",
      "__________________________________________________________________________________________________\n",
      "block3_conv2_sec (Conv2D)       (None, 75, 100, 256) 590080      block3_conv1_sec[0][0]           \n",
      "__________________________________________________________________________________________________\n",
      "block3_conv2 (Conv2D)           (None, 150, 200, 256 590080      block3_conv1[0][0]               \n",
      "__________________________________________________________________________________________________\n",
      "block3_conv3_sec (Conv2D)       (None, 75, 100, 256) 590080      block3_conv2_sec[0][0]           \n",
      "__________________________________________________________________________________________________\n",
      "block3_conv3 (Conv2D)           (None, 150, 200, 256 590080      block3_conv2[0][0]               \n",
      "__________________________________________________________________________________________________\n",
      "block3_pool_sec (MaxPooling2D)  (None, 37, 50, 256)  0           block3_conv3_sec[0][0]           \n",
      "__________________________________________________________________________________________________\n",
      "block3_pool (MaxPooling2D)      (None, 75, 100, 256) 0           block3_conv3[0][0]               \n",
      "__________________________________________________________________________________________________\n",
      "block4_conv1_sec (Conv2D)       (None, 37, 50, 512)  1180160     block3_pool_sec[0][0]            \n",
      "__________________________________________________________________________________________________\n",
      "block4_conv1 (Conv2D)           (None, 75, 100, 512) 1180160     block3_pool[0][0]                \n",
      "__________________________________________________________________________________________________\n",
      "block4_conv2_sec (Conv2D)       (None, 37, 50, 512)  2359808     block4_conv1_sec[0][0]           \n",
      "__________________________________________________________________________________________________\n",
      "block4_conv2 (Conv2D)           (None, 75, 100, 512) 2359808     block4_conv1[0][0]               \n",
      "__________________________________________________________________________________________________\n",
      "block4_conv3_sec (Conv2D)       (None, 37, 50, 512)  2359808     block4_conv2_sec[0][0]           \n",
      "__________________________________________________________________________________________________\n",
      "block4_conv3 (Conv2D)           (None, 75, 100, 512) 2359808     block4_conv2[0][0]               \n",
      "__________________________________________________________________________________________________\n",
      "block4_pool_sec (MaxPooling2D)  (None, 18, 25, 512)  0           block4_conv3_sec[0][0]           \n",
      "__________________________________________________________________________________________________\n",
      "block4_pool (MaxPooling2D)      (None, 37, 50, 512)  0           block4_conv3[0][0]               \n",
      "__________________________________________________________________________________________________\n",
      "block5_conv1_sec (Conv2D)       (None, 18, 25, 512)  2359808     block4_pool_sec[0][0]            \n",
      "__________________________________________________________________________________________________\n",
      "block5_conv1 (Conv2D)           (None, 37, 50, 512)  2359808     block4_pool[0][0]                \n",
      "__________________________________________________________________________________________________\n",
      "block5_conv2_sec (Conv2D)       (None, 18, 25, 512)  2359808     block5_conv1_sec[0][0]           \n",
      "__________________________________________________________________________________________________\n",
      "block5_conv2 (Conv2D)           (None, 37, 50, 512)  2359808     block5_conv1[0][0]               \n",
      "__________________________________________________________________________________________________\n",
      "block5_conv3_sec (Conv2D)       (None, 18, 25, 512)  2359808     block5_conv2_sec[0][0]           \n",
      "__________________________________________________________________________________________________\n",
      "block5_conv3 (Conv2D)           (None, 37, 50, 512)  2359808     block5_conv2[0][0]               \n",
      "__________________________________________________________________________________________________\n",
      "block5_pool_sec (MaxPooling2D)  (None, 9, 12, 512)   0           block5_conv3_sec[0][0]           \n",
      "__________________________________________________________________________________________________\n",
      "block5_pool (MaxPooling2D)      (None, 18, 25, 512)  0           block5_conv3[0][0]               \n",
      "__________________________________________________________________________________________________\n",
      "lambda_c1 (Lambda)              (None, 18, 25, 512)  0           block5_pool_sec[0][0]            \n",
      "__________________________________________________________________________________________________\n",
      "my_concat (Concatenate)         (None, 18, 25, 1024) 0           block5_pool[0][0]                \n",
      "                                                                 lambda_c1[0][0]                  \n",
      "__________________________________________________________________________________________________\n",
      "lambda_concate (Lambda)         (None, 18, 25, 1024) 0           my_concat[0][0]                  \n",
      "__________________________________________________________________________________________________\n",
      "max_pooling2d_2 (MaxPooling2D)  (None, 9, 12, 1024)  0           lambda_concate[0][0]             \n",
      "__________________________________________________________________________________________________\n",
      "flatten_2 (Flatten)             (None, 110592)       0           max_pooling2d_2[0][0]            \n",
      "__________________________________________________________________________________________________\n",
      "dense_2 (Dense)                 (None, 1024)         113247232   flatten_2[0][0]                  \n",
      "__________________________________________________________________________________________________\n",
      "multiply_2 (Multiply)           (None, 18, 25, 1024) 0           lambda_concate[0][0]             \n",
      "                                                                 dense_2[0][0]                    \n",
      "__________________________________________________________________________________________________\n",
      "conv2d_2 (Conv2D)               (None, 18, 25, 1)    1025        multiply_2[0][0]                 \n",
      "__________________________________________________________________________________________________\n",
      "my_sigmoid_layer_2 (MySigmoidLa (None, 18, 25, 1)    1           conv2d_2[0][0]                   \n",
      "==================================================================================================\n",
      "Total params: 142,677,634\n",
      "Trainable params: 142,677,634\n",
      "Non-trainable params: 0\n",
      "__________________________________________________________________________________________________\n"
     ]
    }
   ],
   "source": [
    "model = create_weighted_model()\n",
    "model.load_weights('train_output/salicon_generator_epoch_sigmoid25.h5')\n",
    "model.summary()"
   ]
  },
  {
   "cell_type": "code",
   "execution_count": 11,
   "metadata": {},
   "outputs": [
    {
     "name": "stderr",
     "output_type": "stream",
     "text": [
      "  0%|          | 0/1 [00:00<?, ?it/s]/home/dlnus/anaconda2/lib/python2.7/site-packages/ipykernel_launcher.py:7: DeprecationWarning: `imresize` is deprecated!\n",
      "`imresize` is deprecated in SciPy 1.0.0, and will be removed in 1.2.0.\n",
      "Use ``skimage.transform.resize`` instead.\n",
      "  import sys\n"
     ]
    },
    {
     "data": {
      "image/png": "[encoded data removed]",
      "text/plain": [
       "<matplotlib.figure.Figure at 0x7fa687fd7510>"
      ]
     },
     "metadata": {},
     "output_type": "display_data"
    },
    {
     "name": "stderr",
     "output_type": "stream",
     "text": [
      "100%|██████████| 1/1 [00:04<00:00,  4.15s/it]\n"
     ]
    }
   ],
   "source": [
    "images = sorted(glob.glob('./datasets/MIT300/*.jpg'))[0:1]\n",
    "for ind, img,in enumerate(tqdm(images)):\n",
    "    name = os.path.basename(img)\n",
    "    x1 = np.expand_dims(get_image_data(img, (600, 800), space=\"rgb\"), axis=0)\n",
    "    x2 = np.expand_dims(get_image_data(img, (300, 400), space=\"rgb\"), axis=0)\n",
    "    res = model.predict([x1, x2])\n",
    "    sal = scipy.misc.imresize(res[0,:,:,0], (600, 800), interp='bicubic')\n",
    "    plt.imshow(sal)\n",
    "    plt.show()"
   ]
  },
  {
   "cell_type": "code",
   "execution_count": null,
   "metadata": {
    "collapsed": true
   },
   "outputs": [],
   "source": []
  }
 ],
 "metadata": {
  "kernelspec": {
   "display_name": "Python 2",
   "language": "python",
   "name": "python2"
  },
  "language_info": {
   "codemirror_mode": {
    "name": "ipython",
    "version": 2
   },
   "file_extension": ".py",
   "mimetype": "text/x-python",
   "name": "python",
   "nbconvert_exporter": "python",
   "pygments_lexer": "ipython2",
   "version": "2.7.13"
  }
 },
 "nbformat": 4,
 "nbformat_minor": 2
}
